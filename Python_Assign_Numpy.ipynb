{
 "cells": [
  {
   "cell_type": "code",
   "execution_count": 3,
   "metadata": {},
   "outputs": [],
   "source": [
    "# Write a function so that the columns of the output matrix are powers of the input\n",
    "# vector.\n",
    "# The order of the powers is determined by the increasing boolean argument. Specifically, when\n",
    "# increasing is False, the i-th output column is the input vector raised element-wise to the power\n",
    "# of N - i - 1.\n",
    "#------------------------------------------------------------------------------------------------\n",
    "# HINT: Such a matrix with a geometric progression in each row is named for Alexandre-\n",
    "# Theophile Vandermonde.\n",
    "#-------------------------------------------------------------------------------------------------\n",
    "class Error(Exception):\n",
    "    pass\n",
    "class customValueError(Error):\n",
    "    pass\n",
    "class customTypeError(Error):\n",
    "    pass\n",
    "            "
   ]
  },
  {
   "cell_type": "code",
   "execution_count": 4,
   "metadata": {},
   "outputs": [],
   "source": [
    "import pandas as pd\n",
    "import numpy as np\n",
    "\n",
    "def Vander_matrix_custom(x,N=None,increasing=False):\n",
    "    try:\n",
    "        new_list=[]\n",
    "        if N == False:\n",
    "            print(np.array(new_list))\n",
    "            \n",
    "        elif N!=None and N<0:\n",
    "            raise customValueError\n",
    "            \n",
    "        elif N!=None and type(N)!=int:\n",
    "            raise customTypeError\n",
    "             \n",
    "        else:\n",
    "            for i in range(len(x)):\n",
    "                for j in x:                \n",
    "                    new_list.append(j**i)\n",
    "            matrix = np.array([new_list[i:i+len(x)] for i in range(0,len(new_list),len(x))])\n",
    "            increasing_vander_matrix = matrix.T\n",
    "            if increasing == False or increasing ==None:\n",
    "                a =increasing_vander_matrix.tolist()\n",
    "                reversed_mat = []\n",
    "                for i in range(len(a)):\n",
    "                    b = a[i]\n",
    "                    reversed_mat.append(b[::-1]) \n",
    "                print(np.mat(reversed_mat))\n",
    "            else:\n",
    "                print(increasing_vander_matrix)\n",
    "    except customValueError:\n",
    "        print('Value error! Negative dimensions not allowed!')   \n",
    "    except customTypeError:\n",
    "            print('Please enter integer') "
   ]
  },
  {
   "cell_type": "code",
   "execution_count": 6,
   "metadata": {},
   "outputs": [
    {
     "name": "stdout",
     "output_type": "stream",
     "text": [
      "[[  1   1   1   1   1]\n",
      " [ 16   8   4   2   1]\n",
      " [ 81  27   9   3   1]\n",
      " [256  64  16   4   1]\n",
      " [625 125  25   5   1]]\n"
     ]
    }
   ],
   "source": [
    "# case1: with only one parameter,the default increasing value is 'False' decreasing order of power displayed\n",
    "# default matrix will consider the N value as length of input vector\n",
    "vector =[1,2,3,4,5]\n",
    "x = np.array(vector)\n",
    "Vander_matrix_custom(x)"
   ]
  },
  {
   "cell_type": "code",
   "execution_count": 7,
   "metadata": {},
   "outputs": [
    {
     "name": "stdout",
     "output_type": "stream",
     "text": [
      "[[  1   1   1   1   1]\n",
      " [  1   2   4   8  16]\n",
      " [  1   3   9  27  81]\n",
      " [  1   4  16  64 256]\n",
      " [  1   5  25 125 625]]\n"
     ]
    }
   ],
   "source": [
    "# case2: while increasing is True, matrix is in increasing order of power\n",
    "Vander_matrix_custom(x,increasing = True)"
   ]
  },
  {
   "cell_type": "code",
   "execution_count": 8,
   "metadata": {},
   "outputs": [
    {
     "name": "stdout",
     "output_type": "stream",
     "text": [
      "Value error! Negative dimensions not allowed!\n"
     ]
    }
   ],
   "source": [
    "#case3: N=-1, N value cant be negative\n",
    "Vander_matrix_custom(x,N=-1)"
   ]
  },
  {
   "cell_type": "code",
   "execution_count": 9,
   "metadata": {},
   "outputs": [
    {
     "name": "stdout",
     "output_type": "stream",
     "text": [
      "[[  1   1   1   1   1]\n",
      " [ 16   8   4   2   1]\n",
      " [ 81  27   9   3   1]\n",
      " [256  64  16   4   1]\n",
      " [625 125  25   5   1]]\n"
     ]
    }
   ],
   "source": [
    "#case4: if N greater than or less than the length of input vector, default length(length of input vector taken)\n",
    "Vander_matrix_custom(x,N=7)"
   ]
  },
  {
   "cell_type": "code",
   "execution_count": 10,
   "metadata": {},
   "outputs": [
    {
     "name": "stdout",
     "output_type": "stream",
     "text": [
      "Please enter integer\n"
     ]
    }
   ],
   "source": [
    "#case5: N=0, no values returned\n",
    "Vander_matrix_custom(x,N=1.25)"
   ]
  },
  {
   "cell_type": "code",
   "execution_count": 11,
   "metadata": {},
   "outputs": [
    {
     "name": "stdout",
     "output_type": "stream",
     "text": [
      "[[  1   1   1   1   1]\n",
      " [ 16   8   4   2   1]\n",
      " [ 81  27   9   3   1]\n",
      " [256  64  16   4   1]\n",
      " [625 125  25   5   1]]\n"
     ]
    }
   ],
   "source": [
    "#case6: on given 'None' for N and increasing, default length of input vector taken,default descending order of power displayed\n",
    "Vander_matrix_custom(x,N=None,increasing=None)"
   ]
  },
  {
   "cell_type": "code",
   "execution_count": null,
   "metadata": {},
   "outputs": [],
   "source": [
    "# Given a sequence of n values x1, x2, ..., xn and a window size k>0, the k-th moving average of\n",
    "# the given sequence is defined as follows:\n",
    "# The moving average sequence has n-k+1 elements as shown below.\n",
    "# The moving averages with k=4 of a ten-value sequence (n=10) is shown below\n",
    "# i 1 2 3 4 5 6 7 8 9 10\n",
    "# ===== == == == == == == == == == ==\n",
    "# Input 10 20 30 40 50 60 70 80 90 100\n",
    "# y1 25 = (10+20+30+40)/4\n",
    "# y2 35 = (20+30+40+50)/4\n",
    "# y3 45 = (30+40+50+60)/4\n",
    "# y4 55 = (40+50+60+70)/4\n",
    "# y5 65 = (50+60+70+80)/4\n",
    "# y6 75 = (60+70+80+90)/4\n",
    "# y7 85 = (70+80+90+100)/4\n",
    "# Thus, the moving average sequence has n-k+1=10-4+1=7 values.\n",
    "#---------------------------------------------------------------------------------\n",
    "# Question: Write a function to find moving average in an array over a window:\n",
    "# Test it over [3, 5, 7, 2, 8, 10, 11, 65, 72, 81, 99, 100, 150] and window of 3."
   ]
  },
  {
   "cell_type": "code",
   "execution_count": 12,
   "metadata": {},
   "outputs": [],
   "source": [
    "class Error(Exception):\n",
    "    pass\n",
    "class customValueError(Error):\n",
    "    pass\n",
    "class customTypeError(Error):\n",
    "    pass"
   ]
  },
  {
   "cell_type": "code",
   "execution_count": 13,
   "metadata": {},
   "outputs": [],
   "source": [
    "def moving_avg_custom(new,k):\n",
    "    sequences = []\n",
    "    moving_avg = []\n",
    "    n =len(new)\n",
    "    \n",
    "    if type(k)== int and k>0:\n",
    "        \n",
    "#creating the sequences/subsets as per the window size \n",
    "        for i in range(len(new)):             \n",
    "            while (k<=n) == True:\n",
    "                sequences.append(new[i:k])\n",
    "                k = k+1   \n",
    "                break;  \n",
    "        moving_avg = []\n",
    "#getting the moving average of each of the subsets       \n",
    "        for i in range(len(sequences)):\n",
    "            average = sum(sequences[i])/len(sequences[i])\n",
    "            moving_avg.append(round(average,2))    \n",
    "        print(pd.Series(np.array(moving_avg)))\n",
    "    else:\n",
    "        try:\n",
    "            if (k == 0):\n",
    "                print(sequences)   \n",
    "            elif (k<0):\n",
    "                raise customValueError\n",
    "                    \n",
    "            else:\n",
    "                type(k)!=int\n",
    "                raise customTypeError\n",
    "                    \n",
    "        except customValueError:\n",
    "            print('Please enter a window size(k) greater than zero!')\n",
    "        except customTypeError:\n",
    "            print('Window size must be integer')"
   ]
  },
  {
   "cell_type": "code",
   "execution_count": 14,
   "metadata": {},
   "outputs": [
    {
     "name": "stdout",
     "output_type": "stream",
     "text": [
      "0       5.00\n",
      "1       4.67\n",
      "2       5.67\n",
      "3       6.67\n",
      "4       9.67\n",
      "5      28.67\n",
      "6      49.33\n",
      "7      72.67\n",
      "8      84.00\n",
      "9      93.33\n",
      "10    116.33\n",
      "dtype: float64\n"
     ]
    }
   ],
   "source": [
    "# returning an array with the moving averge for the window size = 3\n",
    "#Case1:\n",
    "l =[3, 5, 7, 2, 8, 10, 11, 65, 72, 81, 99, 100, 150]\n",
    "new =np.array(l)\n",
    "k = 3\n",
    "moving_avg_custom(new,k)"
   ]
  },
  {
   "cell_type": "code",
   "execution_count": 15,
   "metadata": {},
   "outputs": [
    {
     "name": "stdout",
     "output_type": "stream",
     "text": [
      "[]\n"
     ]
    }
   ],
   "source": [
    "#Case2: if window size is zero, empty array displayed\n",
    "moving_avg_custom(new,0)"
   ]
  },
  {
   "cell_type": "code",
   "execution_count": 16,
   "metadata": {},
   "outputs": [
    {
     "name": "stdout",
     "output_type": "stream",
     "text": [
      "Window size must be integer\n"
     ]
    }
   ],
   "source": [
    "#Case3: window size should be integer\n",
    "moving_avg_custom(new,1.25)"
   ]
  },
  {
   "cell_type": "code",
   "execution_count": 18,
   "metadata": {},
   "outputs": [
    {
     "name": "stdout",
     "output_type": "stream",
     "text": [
      "Please enter a window size(k) greater than zero!\n"
     ]
    }
   ],
   "source": [
    "#Case4: negative window size not accepted\n",
    "moving_avg_custom(new,-1)"
   ]
  },
  {
   "cell_type": "code",
   "execution_count": null,
   "metadata": {},
   "outputs": [],
   "source": []
  }
 ],
 "metadata": {
  "kernelspec": {
   "display_name": "Python 3",
   "language": "python",
   "name": "python3"
  },
  "language_info": {
   "codemirror_mode": {
    "name": "ipython",
    "version": 3
   },
   "file_extension": ".py",
   "mimetype": "text/x-python",
   "name": "python",
   "nbconvert_exporter": "python",
   "pygments_lexer": "ipython3",
   "version": "3.8.3"
  }
 },
 "nbformat": 4,
 "nbformat_minor": 4
}
