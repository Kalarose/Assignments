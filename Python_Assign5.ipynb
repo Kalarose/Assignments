{
 "cells": [
  {
   "cell_type": "code",
   "execution_count": 1,
   "metadata": {},
   "outputs": [],
   "source": [
    "# 1. Write a function to compute 5/0 and use try/except to catch the exceptions.\n",
    "#-------------------------------------------------------------------------------\n",
    "class Error(Exception):\n",
    "    pass\n",
    "class customZeroDivisionError(Error):\n",
    "    pass\n",
    "        "
   ]
  },
  {
   "cell_type": "code",
   "execution_count": 6,
   "metadata": {},
   "outputs": [
    {
     "name": "stdout",
     "output_type": "stream",
     "text": [
      "Enter the value for a here:5\n",
      "Enter the value for b here:0\n",
      "Invalid input for b!\n",
      " \n",
      "Value of b should be greater than zero!\n",
      "Execution of finally block\n"
     ]
    }
   ],
   "source": [
    "try:\n",
    "    def myfunc_divi_by_zero(a,b):\n",
    "        if b == 0:\n",
    "            raise customZeroDivisionError\n",
    "        else:\n",
    "            c = a/b\n",
    "            print(c)  \n",
    "            \n",
    "    a =int(input('Enter the value for a here:'))\n",
    "    b =int(input('Enter the value for b here:'))\n",
    "    \n",
    "    myfunc_divi_by_zero(a,b)   \n",
    "except ValueError:\n",
    "    print(\" \")\n",
    "    print(\"Please enter integer value.....!\")    \n",
    "except customZeroDivisionError:\n",
    "    print('Invalid input for b!')    \n",
    "    print(\" \")\n",
    "    print('Value of b should be greater than zero!')\n",
    "except Exception as e:\n",
    "    print(e)\n",
    "finally:\n",
    "    print(\"Execution of finally block\")\n",
    "        "
   ]
  },
  {
   "cell_type": "code",
   "execution_count": 9,
   "metadata": {},
   "outputs": [
    {
     "name": "stdout",
     "output_type": "stream",
     "text": [
      "Americans  play Baseball.\n",
      "Americans  play Cricket.\n",
      "Americans  watch Baseball.\n",
      "Americans  watch Cricket.\n",
      "Indians play Baseball.\n",
      "Indians play Cricket.\n",
      "Indians watch Baseball.\n",
      "Indians watch Cricket.\n",
      " \n",
      "Finally block!\n"
     ]
    }
   ],
   "source": [
    "# 2. Implement a Python program to generate all sentences where subject is in\n",
    "# [\"Americans\", \"Indians\"] and verb is in [\"Play\", \"watch\"] and the object is in\n",
    "# [\"Baseball\",\"cricket\"].\n",
    "\n",
    "# Hint: Subject,Verb and Object should be declared in the program as shown below.\n",
    "# subjects=[\"Americans \",\"Indians\"]\n",
    "# verbs=[\"play\",\"watch\"]\n",
    "# objects=[\"Baseball\",\"Cricket\"]\n",
    "#----------------------------\n",
    "# Output should come as below:\n",
    "#----------------------------\n",
    "# Americans play Baseball.\n",
    "# Americans play Cricket.\n",
    "# Americans watch Baseball.\n",
    "# Americans watch Cricket.\n",
    "# Indians play Baseball.\n",
    "# Indians play Cricket.\n",
    "# Indians watch Baseball.\n",
    "# Indians watch Cricket.\n",
    "\n",
    "subjects=[\"Americans \",\"Indians\"]\n",
    "verbs=[\"play\",\"watch\"]\n",
    "objects=[\"Baseball\",\"Cricket\"]\n",
    "try:\n",
    "    for i in range(len(subjects)):\n",
    "        for j in range(len(verbs)):\n",
    "            for k in range(len(objects)):\n",
    "                print(subjects[i], verbs[j], objects[k] + \".\")\n",
    "except Exception as e :\n",
    "    print('error')\n",
    "finally:\n",
    "    print(' ')\n",
    "    print('Finally block!')"
   ]
  },
  {
   "cell_type": "code",
   "execution_count": null,
   "metadata": {},
   "outputs": [],
   "source": []
  }
 ],
 "metadata": {
  "kernelspec": {
   "display_name": "Python 3",
   "language": "python",
   "name": "python3"
  },
  "language_info": {
   "codemirror_mode": {
    "name": "ipython",
    "version": 3
   },
   "file_extension": ".py",
   "mimetype": "text/x-python",
   "name": "python",
   "nbconvert_exporter": "python",
   "pygments_lexer": "ipython3",
   "version": "3.8.3"
  }
 },
 "nbformat": 4,
 "nbformat_minor": 4
}
