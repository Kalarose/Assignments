{
 "cells": [
  {
   "cell_type": "code",
   "execution_count": 5,
   "metadata": {},
   "outputs": [],
   "source": [
    "# 1.1 Write a Python Program(with class concepts) to find the area of the triangle using the below\n",
    "# formula.\n",
    "# area = (s*(s-a)*(s-b)*(s-c)) ** 0.5\n",
    "# Function to take the length of the sides of triangle from user should be defined in the parent\n",
    "# class and function to calculate the area should be defined in subclass.\n",
    "#--------------------------------------------------------------------------------\n",
    "class Main:\n",
    "    def __init__(self,count):\n",
    "        self.count= count\n",
    "        self.sides = []\n",
    "                     \n",
    "    def get_sides_triangle(self):\n",
    "        self.sides = [float(input(\"Enter side\"+ str(i+1) +\":\" )) for i in range(self.count)]\n",
    "           \n",
    "class Child(Main):      \n",
    "    def __init__(self):\n",
    "        super().__init__(3)\n",
    "    \n",
    "    def get_area_triangle(self):\n",
    "\n",
    "        a,b,c = self.sides\n",
    "        s = (a+b+c)/2\n",
    "        print(\"semiperimeter:\",s)\n",
    "        area = (s*(s-a)*(s-b)*(s-c))**0.5\n",
    "        print(\"Area of triangle:\",area) \n",
    "  "
   ]
  },
  {
   "cell_type": "code",
   "execution_count": 6,
   "metadata": {},
   "outputs": [
    {
     "name": "stdout",
     "output_type": "stream",
     "text": [
      "Enter side1:14.5\n",
      "Enter side2:15.3\n",
      "Enter side3:16.3\n",
      "semiperimeter: 23.05\n",
      "Area of triangle: 101.53628277000296\n"
     ]
    }
   ],
   "source": [
    "obj = Child()\n",
    "obj.get_sides_triangle()\n",
    "obj.get_area_triangle()"
   ]
  },
  {
   "cell_type": "code",
   "execution_count": 12,
   "metadata": {},
   "outputs": [],
   "source": [
    "# 1.2 Write a function filter_long_words() that takes a list of words and an integer n and returns\n",
    "# the list of words that are longer than n.\n",
    "#-------------------------------------------------------------------------------------------------\n",
    "list_words = [\"hello\",'Greetings','are','fine','you','ascent','datascience','Keras','Machine Learning','statistics','func']\n",
    "\n",
    "def my_filter_long_words(list_words,n):\n",
    "    new_list =[]\n",
    "    for i in list_words:\n",
    "        if len(i)> n:\n",
    "            new_list.append(i)\n",
    "#    print(new_list)\n",
    "    if new_list == []:\n",
    "        print(\"No words having length greater than given number:\",n)\n",
    "    else:\n",
    "        print(new_list)"
   ]
  },
  {
   "cell_type": "code",
   "execution_count": 17,
   "metadata": {},
   "outputs": [
    {
     "name": "stdout",
     "output_type": "stream",
     "text": [
      "Enter integer value for n:15\n",
      "['Machine Learning']\n"
     ]
    }
   ],
   "source": [
    "my_filter_long_words(list_words,int(input(\"Enter integer value for n:\")))"
   ]
  },
  {
   "cell_type": "code",
   "execution_count": 45,
   "metadata": {},
   "outputs": [],
   "source": [
    "# 2.1 Write a Python program using function concept that maps list of words into a list of integers\n",
    "# representing the lengths of the corresponding words.\n",
    "# Hint: If a list [ ab,cde,erty] is passed on to the python function output should come as [2,3,4]\n",
    "# Here 2,3 and 4 are the lengths of the words in the list.\n",
    "#----------------------------------------------------------------------------------------------------\n",
    "def len_string_list_to_numerical_list(my_list):\n",
    "    new = []\n",
    "    for i in my_list:\n",
    "        new.append(len(i))\n",
    "    print(new)"
   ]
  },
  {
   "cell_type": "code",
   "execution_count": 46,
   "metadata": {},
   "outputs": [
    {
     "name": "stdout",
     "output_type": "stream",
     "text": [
      "[3, 4, 6, 7, 14]\n"
     ]
    }
   ],
   "source": [
    "my_list = ['abc','cdef','99erty','xy14587','FGRFDFD47GDF54']\n",
    "len_string_list_to_numerical_list(my_list)"
   ]
  },
  {
   "cell_type": "code",
   "execution_count": 2,
   "metadata": {},
   "outputs": [],
   "source": [
    "# 2.2 Write a Python function which takes a character (i.e. a string of length 1) and returns True if\n",
    "# it is a vowel, False otherwise.\n",
    "#------------------------------------------------------------------------------------------------------\n",
    "def is_a_vowel_check(ch):\n",
    "    if((ch >= 'a' and ch <= 'z') or (ch >= 'A' and ch <= 'Z')):\n",
    "        if len(ch) == 1 and ch in('a','e','i','o','u','A','E','I','O','U'):\n",
    "            return True\n",
    "        else:\n",
    "            return False"
   ]
  },
  {
   "cell_type": "code",
   "execution_count": 3,
   "metadata": {},
   "outputs": [
    {
     "name": "stdout",
     "output_type": "stream",
     "text": [
      "Enter the character: U\n"
     ]
    },
    {
     "data": {
      "text/plain": [
       "True"
      ]
     },
     "execution_count": 3,
     "metadata": {},
     "output_type": "execute_result"
    }
   ],
   "source": [
    "is_a_vowel_check(input('Enter the character: '))"
   ]
  },
  {
   "cell_type": "markdown",
   "metadata": {},
   "source": [
    " "
   ]
  }
 ],
 "metadata": {
  "kernelspec": {
   "display_name": "Python 3",
   "language": "python",
   "name": "python3"
  },
  "language_info": {
   "codemirror_mode": {
    "name": "ipython",
    "version": 3
   },
   "file_extension": ".py",
   "mimetype": "text/x-python",
   "name": "python",
   "nbconvert_exporter": "python",
   "pygments_lexer": "ipython3",
   "version": "3.8.3"
  }
 },
 "nbformat": 4,
 "nbformat_minor": 4
}
