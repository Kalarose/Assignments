{
 "cells": [
  {
   "cell_type": "code",
   "execution_count": 1,
   "metadata": {},
   "outputs": [
    {
     "name": "stdout",
     "output_type": "stream",
     "text": [
      " *\n",
      " * *\n",
      " * * *\n",
      " * * * *\n",
      " * * * * *\n",
      " * * * *\n",
      " * * *\n",
      " * *\n",
      " *\n",
      "\n"
     ]
    }
   ],
   "source": [
    "''' 1. Create the below pattern using nested for loop in Python.\n",
    "Sample output\n",
    "*\n",
    "* *\n",
    "* * *\n",
    "* * * *\n",
    "* * * * *\n",
    "* * * *\n",
    "* * *\n",
    "* *\n",
    "*\n",
    "'''\n",
    "# method 1\n",
    " n = 5\n",
    "    for i in range(0,n):        \n",
    "        for j in range(0, i+1):  \n",
    "           \n",
    "            print(\"* \",end=\"\")  \n",
    "        \n",
    "        print(\"\\r\")\n",
    "        \n",
    "    for i in range(n-1,0,-1):        \n",
    "        for j in range(i,0,-1):  \n",
    "           \n",
    "            print(\"* \",end=\"\") \n",
    "        print(\"\\r\")\n"
   ]
  },
  {
   "cell_type": "code",
   "execution_count": 36,
   "metadata": {},
   "outputs": [
    {
     "name": "stdout",
     "output_type": "stream",
     "text": [
      "* \r\n",
      "* * \r\n",
      "* * * \r\n",
      "* * * * \r\n",
      "* * * * * \r\n",
      "* * * * \r\n",
      "* * * \r\n",
      "* * \r\n",
      "* \r\n"
     ]
    }
   ],
   "source": [
    "# method2\n",
    "for i in range(1,3):   \n",
    "        if i == 2:\n",
    "            for j in range(4,-1,-1):\n",
    "                print(j*' *')\n",
    "        else:\n",
    "            for j in range(1,6):\n",
    "                print(j*' *')    \n",
    "    \n",
    "    "
   ]
  },
  {
   "cell_type": "code",
   "execution_count": 2,
   "metadata": {},
   "outputs": [
    {
     "name": "stdout",
     "output_type": "stream",
     "text": [
      "Enter your word here:Ineuron\n",
      "Reversal: noruenI\n"
     ]
    }
   ],
   "source": [
    "'''\n",
    " Write a Python program to reverse a word after accepting the input from the user.\n",
    " Input word: ineuron\n",
    " Output: norueni\n",
    "'''\n",
    "a = input(\"Enter your word here:\")\n",
    "print(\"Reversal:\",a[::-1])"
   ]
  }
 ],
 "metadata": {
  "kernelspec": {
   "display_name": "Python 3",
   "language": "python",
   "name": "python3"
  },
  "language_info": {
   "codemirror_mode": {
    "name": "ipython",
    "version": 3
   },
   "file_extension": ".py",
   "mimetype": "text/x-python",
   "name": "python",
   "nbconvert_exporter": "python",
   "pygments_lexer": "ipython3",
   "version": "3.8.3"
  }
 },
 "nbformat": 4,
 "nbformat_minor": 4
}
